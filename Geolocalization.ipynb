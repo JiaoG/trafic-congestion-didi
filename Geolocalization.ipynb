{
 "cells": [
  {
   "cell_type": "code",
   "execution_count": null,
   "metadata": {},
   "outputs": [],
   "source": [
    "https://github.com/caijun/geoChina/blob/5c6284b/R/cst.R#L101-L107\n",
    "https://artoria2e5.github.io/PRCoords/demo?lat=30.679209999999998&lon=104.0692 "
   ]
  },
  {
   "cell_type": "code",
   "execution_count": 1,
   "metadata": {},
   "outputs": [],
   "source": [
    "# RGVkaWNhdGVkIHRvIEppYW8gSGFvc29uZy4gSSBsb3ZlIHUh\n",
    "\n",
    "### WGS-84 => GCJ-02 ###\n",
    "# Krasovsky 1940 ellipsoid parameters\n",
    "# semi-major axis\n",
    "a <- 6378245.0\n",
    "# inverse flattening: 1/f = 298.3\n",
    "# flattening\n",
    "f <- 0.00335233\n",
    "# semi-minor axis\n",
    "b <- a * (1 - f)\n",
    "ee <- (a^2 - b^2) / a^2\n",
    "\n",
    "#' Convert coordinates\n",
    "#'\n",
    "#' converts lat/lon coordintes from WGS-84 to GCJ-02\n",
    "#' \n",
    "#' @param wgsLat a numeric latitude in WGS-84\n",
    "#' @param wgsLon a numeric longitude in WGS-84\n",
    "#' @return a data.frame with variables lat/lng\n",
    "#' @author Jun Cai (\\email{cai-j12@@mails.tsinghua.edu.cn}), PhD candidate from \n",
    "#' Department of Earth System Science, Tsinghua University\n",
    "#' @details All real WGS-84 latitude/longitude coordites must be encrypted by \n",
    "#' National Admistration of Surveying, Mapping and Geoinformation \n",
    "#' (\\url{http://en.sbsm.gov.cn/}) into GCJ-02 (known as 'Mars coordinate system') \n",
    "#' with a deviation no more than 700 meters in China. The decryption algorithm is \n",
    "#' a public secrect on the Internet and verfied to be correct.\n",
    "#' @seealso \\code{\\link{gcj2wgs}}, \\code{\\link{conv}}.\n",
    "#' \n",
    "#' \\url{https://on4wp7.codeplex.com/SourceControl/changeset/view/21483#353936} \n",
    "#' for C version source code.\n",
    "#' @export\n",
    "#' @examples\n",
    "#' \\dontrun{\n",
    "#' # latitude/longitude coordinates of Beijing railway station\n",
    "#' # WGS-84: (39.90105, 116.42079)\n",
    "#' # GCJ-02: (39.90245, 116.42703)\n",
    "#' wgs2gcj(39.90105, 116.42079) # correct\n",
    "#' # convert multiple coordinates\n",
    "#' wgs2gcj(c(39.99837, 39.98565), c(116.3203, 116.2998))\n",
    "#' }\n",
    "\n",
    "wgs2gcj <- function(wgsLat, wgsLon){\n",
    "  # vectorize\n",
    "  if (length(wgsLat) > 1) {\n",
    "    return(ldply(seq_along(wgsLat), function(i){ wgs2gcj(wgsLat[i], wgsLon[i]) }))\n",
    "  }\n",
    "  \n",
    "  if (outofChina(wgsLat, wgsLon)) {\n",
    "    gcjLat <- wgsLat\n",
    "    gcjLon <- wgsLat\n",
    "    return(data.frame(lat = gcjLat, lng = gcjLon))\n",
    "  }\n",
    "  \n",
    "  dLat <- transformLat(wgsLon - 105.0, wgsLat - 35.0)\n",
    "  dLon <- transformLon(wgsLon - 105.0, wgsLat - 35.0)\n",
    "  radLat <- wgsLat / 180.0 * pi\n",
    "  magic <- sin(radLat)\n",
    "  magic <- 1 - ee * magic * magic\n",
    "  sqrtMagic <- sqrt(magic)\n",
    "  dLat <- (dLat * 180.0) / ((a * (1 - ee)) / (magic * sqrtMagic) * pi)\n",
    "  dLon <- (dLon * 180.0) / (a / sqrtMagic * cos(radLat) * pi)\n",
    "  gcjLat <- wgsLat + dLat\n",
    "  gcjLon <- wgsLon + dLon\n",
    "  return(data.frame(lat = gcjLat, lng = gcjLon))\n",
    "}\n",
    "\n",
    "outofChina <- function(lat, lon){\n",
    "  if (lon < 72.004 | lon > 137.8347) return(TRUE)\n",
    "  if (lat < 0.8293 | lat > 55.8271) return(TRUE)\n",
    "  return(FALSE)\n",
    "}\n",
    "\n",
    "transformLat <- function(x, y){\n",
    "  ret <- -100.0 + 2.0 * x + 3.0 * y + 0.2 * y * y + 0.1 * x * y + 0.2 * sqrt(abs(x))\n",
    "  ret <- ret + (20.0 * sin(6.0 * x * pi) + 20.0 * sin(2.0 * x * pi)) * 2.0 / 3.0\n",
    "  ret <- ret + (20.0 * sin(y * pi) + 40.0 * sin(y / 3.0 * pi)) * 2.0 / 3.0\n",
    "  ret <- ret + (160.0 * sin(y / 12.0 * pi) + 320.0 * sin(y * pi / 30.0)) * 2.0 / 3.0\n",
    "  return(ret)\n",
    "}\n",
    "\n",
    "transformLon <- function(x, y){\n",
    "  ret <- 300.0 + x + 2.0 * y + 0.1 * x * x +  0.1 * x * y + 0.1 * sqrt(abs(x))\n",
    "  ret <- ret + (20.0 * sin(6.0 * x * pi) + 20.0 * sin(2.0 * x * pi)) * 2.0 / 3.0\n",
    "  ret <- ret + (20.0 * sin(x * pi) + 40.0 * sin(x / 3.0 * pi)) * 2.0 / 3.0\n",
    "  ret <- ret + (150.0 * sin(x / 12.0 * pi) + 300.0 * sin(x * pi / 30.0)) * 2.0 / 3.0\n",
    "  return(ret)\n",
    "}\n",
    "### WGS-84 => GCJ-02 ###\n",
    "\n",
    "### GCJ-02 => WGS-84 ###\n",
    "#' Convert coordinates\n",
    "#'\n",
    "#' converts lat/lon coordintes from GCJ-02 to WGS-84\n",
    "#' \n",
    "#' @param gcjLat a numeric latitude in GCJ-02\n",
    "#' @param gcjLon a numeric longitude in GCJ-02\n",
    "#' @return a data.frame with variables lat/lng\n",
    "#' @author Jun Cai (\\email{cai-j12@@mails.tsinghua.edu.cn}), PhD candidate from \n",
    "#' Department of Earth System Science, Tsinghua University\n",
    "#' @details since the encryption function from WGS-84 to GCJ-02 doesn't have \n",
    "#' inverse function, the inverse transformation can only be achieved by numeric \n",
    "#' algorithm. Coordinates encryption algorithm must ensure the relative position \n",
    "#' correct; that is to say, if point A is close to point B in GCJ-02 system, this \n",
    "#' relative spatial relationship persists in WGS-84 system. Therefore, when two \n",
    "#' points are close, we can approximate to the right coordinates with the iteration \n",
    "#' algorithm.\n",
    "#' @seealso \\code{\\link{wgs2gcj}}, \\code{\\link{conv}}.\n",
    "#' \n",
    "#' the comments of blog \\url{http://blog.csdn.net/coolypf/article/details/8686588} \n",
    "#' in Chinese\n",
    "#' @export\n",
    "#' @examples\n",
    "#' \\dontrun{\n",
    "#' # latitude/longitude coordinates of Beijing railway station\n",
    "#' # WGS-84: (39.90105, 116.42079)\n",
    "#' # GCJ-02: (39.90245, 116.42703)\n",
    "#' gcj2wgs(39.90245, 116.42703) # correct verifying by google earth\n",
    "#' # convert multiple coordinates\n",
    "#' gcj2wgs(c(39.99967, 39.98691), c(116.3264, 116.3059))\n",
    "#' }\n",
    "\n",
    "# wgs => gcj\n",
    "# offset dV = V' - V\n",
    "# question: gcj => wgs, namely V = V' - dV'\n",
    "# V' is known, while dV' is unknown.\n",
    "# since dV is very close to dV', using dV to estimate dV'; however, to calculate\n",
    "# dV, V must be known. since V and V' are very close to each other, initially \n",
    "# using V' to approximate V.\n",
    "gcj2wgs <- function(gcjLat, gcjLon){\n",
    "  # vectorize\n",
    "  if (length(gcjLat) > 1) {\n",
    "    return(ldply(seq_along(gcjLat), function(i){ gcj2wgs(gcjLat[i], gcjLon[i]) }))\n",
    "  }\n",
    "  \n",
    "  g0 <- c(gcjLat, gcjLon)\n",
    "  w0 <- g0\n",
    "  g1 <- wgs2gcj(w0[1], w0[2])\n",
    "  w1 <- w0 - (g1 - g0)\n",
    "  while (max(abs(w1 - w0)) >= 1e-6) {\n",
    "    w0 <- w1\n",
    "    g1 <- wgs2gcj(w0[1], w0[2])\n",
    "    w1 <- w0 - (g1 - g0)\n",
    "  }\n",
    "  return(data.frame(lat = w1[1], lng = w1[2]))\n",
    "}\n",
    "### GCJ-02 => WGS-84 ###\n",
    "\n",
    "### GCJ-02 => BD-09 ###\n",
    "#' Convert coordinates\n",
    "#'\n",
    "#' converts lat/lon coordintes from GCJ-02 to BD-09\n",
    "#' \n",
    "#' @param gcjLat a numeric latitude in GCJ-02\n",
    "#' @param gcjLon a numeric longitude in GCJ-02\n",
    "#' @return a data.frame with variables lat/lng\n",
    "#' @author Jun Cai (\\email{cai-j12@@mails.tsinghua.edu.cn}), PhD candidate from \n",
    "#' Department of Earth System Science, Tsinghua University\n",
    "#' @details BD-09 coordinate system is used by Baidu Maps and further encrypted based on \n",
    "#' GCJ-02 coordinates.\n",
    "#' @seealso \\code{\\link{bd2gcj}}, \\code{\\link{conv}}.\n",
    "#' \n",
    "#' \\url{http://blog.csdn.net/coolypf/article/details/8569813} for C version \n",
    "#' source code.\n",
    "#' @export\n",
    "#' @examples\n",
    "#' \\dontrun{\n",
    "#' # latitude/longitude coordinates of Beijing railway station\n",
    "#' # GCJ-02: (39.90245, 116.42703)\n",
    "#' # BD-09:  (39.90851, 116.43351)\n",
    "#' gcj2bd(39.90245, 116.42703) # correct\n",
    "#' # convert multiple coordinates\n",
    "#' gcj2bd(c(39.99967, 39.98691), c(116.3264, 116.3059))\n",
    "#' }\n",
    "\n",
    "gcj2bd <- function(gcjLat, gcjLon){\n",
    "  z <- sqrt(gcjLon^2 + gcjLat^2) + 0.00002 * sin(gcjLat * pi * 3000.0 / 180.0)\n",
    "  theta <- atan2(gcjLat, gcjLon) + 0.000003 * cos(gcjLon * pi * 3000.0 / 180.0)\n",
    "  bdLon = z * cos(theta) + 0.0065\n",
    "  bdLat = z * sin(theta) + 0.006\n",
    "  return(data.frame(lat = bdLat, lng = bdLon))\n",
    "}\n",
    "### GCJ-02 => BD-09 ###\n",
    "\n",
    "### BD-09 => GCJ-02 ###\n",
    "#' Convert coordinates\n",
    "#'\n",
    "#' converts lat/lon coordintes from BD-09 to GCJ-02\n",
    "#' \n",
    "#' @param bdLat a numeric latitude in BD-09\n",
    "#' @param bdLon a numeric longitude in BD-09\n",
    "#' @return a data.frame with variables lat/lng\n",
    "#' @author Jun Cai (\\email{cai-j12@@mails.tsinghua.edu.cn}), PhD candidate from \n",
    "#' Department of Earth System Science, Tsinghua University\n",
    "#' @details BD-09 coordinate system is used by Baidu Maps and further encrypted based on \n",
    "#' GCJ-02 coordinates.\n",
    "#' @seealso \\code{\\link{gcj2bd}}, \\code{\\link{conv}}.\n",
    "#' \n",
    "#' \\url{http://blog.csdn.net/coolypf/article/details/8569813} for C version \n",
    "#' source code.\n",
    "#' @export\n",
    "#' @examples\n",
    "#' \\dontrun{\n",
    "#' # latitude/longitude coordinates of Beijing railway station\n",
    "#' # GCJ-02: (39.90245, 116.42703)\n",
    "#' # BD-09:  (39.90851, 116.43351)\n",
    "#' bd2gcj(39.90851, 116.43351) # correct\n",
    "#' # convert multiple coordinates\n",
    "#' bd2gcj(c(40.00541, 39.99299), c(116.3330, 116.3124))\n",
    "#' }\n",
    "\n",
    "bd2gcj <- function(bdLat, bdLon){\n",
    "  x <- bdLon - 0.0065\n",
    "  y <- bdLat - 0.006  \n",
    "  z <- sqrt(x^2 + y^2) - 0.00002 * sin(y * pi * 3000.0 / 180.0)\n",
    "  theta <- atan2(y, x) - 0.000003 * cos(x * pi * 3000.0 / 180.0)  \n",
    "  gcjLon <- z * cos(theta)  \n",
    "  gcjLat <- z * sin(theta)\n",
    "  return(data.frame(lat = gcjLat, lng = gcjLon))\n",
    "}\n",
    "### BD-09 => GCJ-02 ###\n",
    "\n",
    "### BD-09 => GCJ-02 ###\n",
    "# iteration algorithm same to gcj2wgs function\n",
    "# bd2gcj <- function(bdLat, bdLon){\n",
    "#   b0 <- c(bdLat, bdLon)\n",
    "#   g0 <- b0\n",
    "#   b1 <- gcj2bd(g0[1], g0[2])\n",
    "#   g1 <- g0 - (b1 - b0)\n",
    "#   while(max(abs(g1 - g0)) >= 1e-6){\n",
    "#     g0 <- g1\n",
    "#     b1 <- gcj2bd(g0[1], g0[2])\n",
    "#     g1 <- g0 - (b1 - b0)\n",
    "#   }\n",
    "#   return(data.frame(lat = g1[1], lng = g[2]))\n",
    "# }\n",
    "### BD-09 => GCJ-02 ###\n",
    "\n",
    "### WGS-84 <=> BD-09 ###\n",
    "#' Convert coordinates\n",
    "#'\n",
    "#' converts lat/lon coordintes from WGS-84 to BD-09\n",
    "#' \n",
    "#' @param wgsLat a numeric latitude in WGS-84\n",
    "#' @param wgsLon a numeric longitude in WGS-84\n",
    "#' @return a data.frame with variables lat/lng\n",
    "#' @author Jun Cai (\\email{cai-j12@@mails.tsinghua.edu.cn}), PhD candidate from \n",
    "#' Department of Earth System Science, Tsinghua University\n",
    "#' @details convert WGS-84 coordinates first into GCJ-02, then into BD-09.\n",
    "#' @seealso \\code{\\link{wgs2gcj}}, \\code{\\link{gcj2bd}}, \\code{\\link{conv}}.\n",
    "#' @export\n",
    "#' @examples\n",
    "#' \\dontrun{\n",
    "#' # latitude/longitude coordinates of Beijing railway station\n",
    "#' # WGS-84: (39.90105, 116.42079)\n",
    "#' # BD-09:  (39.90851, 116.43351)\n",
    "#' wgs2bd(39.90105, 116.42079) # correct\n",
    "#' # convert multiple coordinates\n",
    "#' wgs2bd(c(39.99837, 39.98565), c(116.3203, 116.2998))\n",
    "#' }\n",
    "\n",
    "wgs2bd <- function(wgsLat, wgsLon){\n",
    "  return(gcj2bd(wgs2gcj(wgsLat, wgsLon)[, 'lat'], wgs2gcj(wgsLat, wgsLon)[, 'lng']))\n",
    "}\n",
    "\n",
    "#' Convert coordinates\n",
    "#'\n",
    "#' converts lat/lon coordintes from BD-09 to WGS-84\n",
    "#' \n",
    "#' @param bdLat a numeric latitude in BD-09\n",
    "#' @param bdLon a numeric longitude in BD-09\n",
    "#' @return a data.frame with variables lat/lng\n",
    "#' @author Jun Cai (\\email{cai-j12@@mails.tsinghua.edu.cn}), PhD candidate from \n",
    "#' Department of Earth System Science, Tsinghua University\n",
    "#' @details convert BD-09 coordinates first into GCJ-02, then into WGS-84.\n",
    "#' @seealso \\code{\\link{bd2gcj}}, \\code{\\link{gcj2wgs}}, \\code{\\link{conv}}.\n",
    "#' @export\n",
    "#' @examples\n",
    "#' \\dontrun{\n",
    "#' # latitude/longitude coordinates of Beijing railway station\n",
    "#' # WGS-84: (39.90105, 116.42079)\n",
    "#' # BD-09:  (39.90851, 116.43351)\n",
    "#' bd2wgs(39.90851, 116.43351) # correct verifying by google earth\n",
    "#' # convert multiple coordinates\n",
    "#' bd2wgs(c(40.00541, 39.99299), c(116.3330, 116.3124))\n",
    "#' }\n",
    "\n",
    "bd2wgs <- function(bdLat, bdLon){\n",
    "  return(gcj2wgs(bd2gcj(bdLat, bdLon)[, 'lat'], bd2gcj(bdLat, bdLon)[, 'lng']))\n",
    "}\n",
    "### WGS-84 <=> BD-09 ###"
   ]
  },
  {
   "cell_type": "code",
   "execution_count": 3,
   "metadata": {},
   "outputs": [
    {
     "data": {
      "text/html": [
       "<table>\n",
       "<thead><tr><th scope=col>lat</th><th scope=col>lng</th></tr></thead>\n",
       "<tbody>\n",
       "\t<tr><td>30.68162</td><td>104.0667</td></tr>\n",
       "</tbody>\n",
       "</table>\n"
      ],
      "text/latex": [
       "\\begin{tabular}{r|ll}\n",
       " lat & lng\\\\\n",
       "\\hline\n",
       "\t 30.68162 & 104.0667\\\\\n",
       "\\end{tabular}\n"
      ],
      "text/markdown": [
       "\n",
       "lat | lng | \n",
       "|---|\n",
       "| 30.68162 | 104.0667 | \n",
       "\n",
       "\n"
      ],
      "text/plain": [
       "  lat      lng     \n",
       "1 30.68162 104.0667"
      ]
     },
     "metadata": {},
     "output_type": "display_data"
    }
   ],
   "source": [
    "gcj2wgs(30.679209999999998, 104.0692)"
   ]
  },
  {
   "cell_type": "code",
   "execution_count": 13,
   "metadata": {},
   "outputs": [
    {
     "data": {
      "text/html": [
       "<table>\n",
       "<thead><tr><th scope=col>X</th><th scope=col>Latitude</th><th scope=col>Logitude</th></tr></thead>\n",
       "<tbody>\n",
       "\t<tr><td>0       </td><td>30.67921</td><td>104.0692</td></tr>\n",
       "\t<tr><td>1       </td><td>30.67936</td><td>104.0690</td></tr>\n",
       "\t<tr><td>2       </td><td>30.67934</td><td>104.0690</td></tr>\n",
       "\t<tr><td>3       </td><td>30.67936</td><td>104.0690</td></tr>\n",
       "</tbody>\n",
       "</table>\n"
      ],
      "text/latex": [
       "\\begin{tabular}{r|lll}\n",
       " X & Latitude & Logitude\\\\\n",
       "\\hline\n",
       "\t 0        & 30.67921 & 104.0692\\\\\n",
       "\t 1        & 30.67936 & 104.0690\\\\\n",
       "\t 2        & 30.67934 & 104.0690\\\\\n",
       "\t 3        & 30.67936 & 104.0690\\\\\n",
       "\\end{tabular}\n"
      ],
      "text/markdown": [
       "\n",
       "X | Latitude | Logitude | \n",
       "|---|---|---|---|\n",
       "| 0        | 30.67921 | 104.0692 | \n",
       "| 1        | 30.67936 | 104.0690 | \n",
       "| 2        | 30.67934 | 104.0690 | \n",
       "| 3        | 30.67936 | 104.0690 | \n",
       "\n",
       "\n"
      ],
      "text/plain": [
       "  X Latitude Logitude\n",
       "1 0 30.67921 104.0692\n",
       "2 1 30.67936 104.0690\n",
       "3 2 30.67934 104.0690\n",
       "4 3 30.67936 104.0690"
      ]
     },
     "metadata": {},
     "output_type": "display_data"
    }
   ],
   "source": [
    "df = read.csv(\"gps_to_correct.csv\", head =T)\n",
    "head(df,4)"
   ]
  },
  {
   "cell_type": "code",
   "execution_count": 11,
   "metadata": {},
   "outputs": [
    {
     "ename": "ERROR",
     "evalue": "Error in ldply(seq_along(gcjLat), function(i) {: could not find function \"ldply\"\n",
     "output_type": "error",
     "traceback": [
      "Error in ldply(seq_along(gcjLat), function(i) {: could not find function \"ldply\"\nTraceback:\n",
      "1. data.frame(df[1:3], lapply(df[2:3], gcj2wgs))",
      "2. lapply(df[2:3], gcj2wgs)",
      "3. FUN(X[[i]], ...)"
     ]
    }
   ],
   "source": [
    "data.frame(df[1:3], lapply(df[2:3], gcj2wgs) )"
   ]
  },
  {
   "cell_type": "code",
   "execution_count": 16,
   "metadata": {},
   "outputs": [],
   "source": [
    "res = mapply(gcj2wgs, df$Latitude, df$Logitude)"
   ]
  },
  {
   "cell_type": "code",
   "execution_count": 25,
   "metadata": {},
   "outputs": [
    {
     "data": {
      "text/html": [
       "<ol>\n",
       "\t<li>30.681619560272</li>\n",
       "\t<li>104.066689753991</li>\n",
       "</ol>\n"
      ],
      "text/latex": [
       "\\begin{enumerate}\n",
       "\\item 30.681619560272\n",
       "\\item 104.066689753991\n",
       "\\end{enumerate}\n"
      ],
      "text/markdown": [
       "1. 30.681619560272\n",
       "2. 104.066689753991\n",
       "\n",
       "\n"
      ],
      "text/plain": [
       "[[1]]\n",
       "[1] 30.68162\n",
       "\n",
       "[[2]]\n",
       "[1] 104.0667\n"
      ]
     },
     "metadata": {},
     "output_type": "display_data"
    }
   ],
   "source": [
    "res[1 :2]"
   ]
  },
  {
   "cell_type": "code",
   "execution_count": 26,
   "metadata": {},
   "outputs": [
    {
     "data": {
      "text/html": [
       "<ol>\n",
       "\t<li>30.6817697445582</li>\n",
       "\t<li>104.066510076629</li>\n",
       "</ol>\n"
      ],
      "text/latex": [
       "\\begin{enumerate}\n",
       "\\item 30.6817697445582\n",
       "\\item 104.066510076629\n",
       "\\end{enumerate}\n"
      ],
      "text/markdown": [
       "1. 30.6817697445582\n",
       "2. 104.066510076629\n",
       "\n",
       "\n"
      ],
      "text/plain": [
       "[[1]]\n",
       "[1] 30.68177\n",
       "\n",
       "[[2]]\n",
       "[1] 104.0665\n"
      ]
     },
     "metadata": {},
     "output_type": "display_data"
    }
   ],
   "source": [
    "res[3 :4]"
   ]
  },
  {
   "cell_type": "code",
   "execution_count": 43,
   "metadata": {},
   "outputs": [],
   "source": [
    "unlisted = unlist(res)\n",
    "unlisted_len = length(unlisted)\n",
    "lat = unlisted[seq(1,unlisted_len, by=2)]\n",
    "lng = unlisted[seq(2,unlisted_len, by=2)]"
   ]
  },
  {
   "cell_type": "code",
   "execution_count": 39,
   "metadata": {},
   "outputs": [
    {
     "data": {
      "text/html": [
       "<ol class=list-inline>\n",
       "\t<li>1</li>\n",
       "\t<li>3</li>\n",
       "</ol>\n"
      ],
      "text/latex": [
       "\\begin{enumerate*}\n",
       "\\item 1\n",
       "\\item 3\n",
       "\\end{enumerate*}\n"
      ],
      "text/markdown": [
       "1. 1\n",
       "2. 3\n",
       "\n",
       "\n"
      ],
      "text/plain": [
       "[1] 1 3"
      ]
     },
     "metadata": {},
     "output_type": "display_data"
    }
   ],
   "source": [
    "seq(1,4, by=2) "
   ]
  },
  {
   "cell_type": "code",
   "execution_count": 48,
   "metadata": {},
   "outputs": [
    {
     "data": {
      "text/html": [
       "<table>\n",
       "<thead><tr><th scope=col>lat</th><th scope=col>lng</th></tr></thead>\n",
       "<tbody>\n",
       "\t<tr><td>30.68162</td><td>104.0667</td></tr>\n",
       "\t<tr><td>30.68177</td><td>104.0665</td></tr>\n",
       "\t<tr><td>30.68175</td><td>104.0665</td></tr>\n",
       "\t<tr><td>30.68177</td><td>104.0665</td></tr>\n",
       "\t<tr><td>30.68179</td><td>104.0665</td></tr>\n",
       "</tbody>\n",
       "</table>\n"
      ],
      "text/latex": [
       "\\begin{tabular}{r|ll}\n",
       " lat & lng\\\\\n",
       "\\hline\n",
       "\t 30.68162 & 104.0667\\\\\n",
       "\t 30.68177 & 104.0665\\\\\n",
       "\t 30.68175 & 104.0665\\\\\n",
       "\t 30.68177 & 104.0665\\\\\n",
       "\t 30.68179 & 104.0665\\\\\n",
       "\\end{tabular}\n"
      ],
      "text/markdown": [
       "\n",
       "lat | lng | \n",
       "|---|---|---|---|---|\n",
       "| 30.68162 | 104.0667 | \n",
       "| 30.68177 | 104.0665 | \n",
       "| 30.68175 | 104.0665 | \n",
       "| 30.68177 | 104.0665 | \n",
       "| 30.68179 | 104.0665 | \n",
       "\n",
       "\n"
      ],
      "text/plain": [
       "  lat      lng     \n",
       "1 30.68162 104.0667\n",
       "2 30.68177 104.0665\n",
       "3 30.68175 104.0665\n",
       "4 30.68177 104.0665\n",
       "5 30.68179 104.0665"
      ]
     },
     "metadata": {},
     "output_type": "display_data"
    }
   ],
   "source": [
    "head (data.frame(lat, lng),5)\n",
    "res_df = data.frame(lat, lng)"
   ]
  },
  {
   "cell_type": "code",
   "execution_count": 24,
   "metadata": {},
   "outputs": [
    {
     "data": {
      "text/html": [
       "<table>\n",
       "<tbody>\n",
       "\t<tr><th scope=row>lat</th><td>30.68162</td><td>30.68177</td><td>30.68175</td><td>30.68177</td><td>30.68179</td><td>30.68179</td><td>30.68181</td><td>30.68181</td><td>30.68185</td><td>30.68192</td><td>...     </td><td>30.66061</td><td>30.66061</td><td>30.66061</td><td>30.66061</td><td>30.66061</td><td>30.66061</td><td>30.66061</td><td>30.66061</td><td>30.66061</td><td>30.66061</td></tr>\n",
       "\t<tr><th scope=row>lng</th><td>104.0667</td><td>104.0665</td><td>104.0665</td><td>104.0665</td><td>104.0665</td><td>104.0665</td><td>104.0665</td><td>104.0664</td><td>104.0664</td><td>104.0663</td><td>...     </td><td>104.0582</td><td>104.0582</td><td>104.0582</td><td>104.0582</td><td>104.0582</td><td>104.0582</td><td>104.0582</td><td>104.0582</td><td>104.0582</td><td>104.0582</td></tr>\n",
       "</tbody>\n",
       "</table>\n"
      ],
      "text/latex": [
       "\\begin{tabular}{r|llllllllllllllllllllllllllllllllllllllllllllllllllllllllllllllllllllllllllllllllllllllllllllllllllllllllllllllllllllllllllllllllllllll}\n",
       "\tlat & 30.68162 & 30.68177 & 30.68175 & 30.68177 & 30.68179 & 30.68179 & 30.68181 & 30.68181 & 30.68185 & 30.68192 & ...      & 30.66061 & 30.66061 & 30.66061 & 30.66061 & 30.66061 & 30.66061 & 30.66061 & 30.66061 & 30.66061 & 30.66061\\\\\n",
       "\tlng & 104.0667 & 104.0665 & 104.0665 & 104.0665 & 104.0665 & 104.0665 & 104.0665 & 104.0664 & 104.0664 & 104.0663 & ...      & 104.0582 & 104.0582 & 104.0582 & 104.0582 & 104.0582 & 104.0582 & 104.0582 & 104.0582 & 104.0582 & 104.0582\\\\\n",
       "\\end{tabular}\n"
      ],
      "text/markdown": [
       "\n",
       "| lat | 30.68162 | 30.68177 | 30.68175 | 30.68177 | 30.68179 | 30.68179 | 30.68181 | 30.68181 | 30.68185 | 30.68192 | ...      | 30.66061 | 30.66061 | 30.66061 | 30.66061 | 30.66061 | 30.66061 | 30.66061 | 30.66061 | 30.66061 | 30.66061 | \n",
       "| lng | 104.0667 | 104.0665 | 104.0665 | 104.0665 | 104.0665 | 104.0665 | 104.0665 | 104.0664 | 104.0664 | 104.0663 | ...      | 104.0582 | 104.0582 | 104.0582 | 104.0582 | 104.0582 | 104.0582 | 104.0582 | 104.0582 | 104.0582 | 104.0582 | \n",
       "\n",
       "\n"
      ],
      "text/plain": [
       "    [,1]     [,2]     [,3]     [,4]     [,5]     [,6]     [,7]     [,8]    \n",
       "lat 30.68162 30.68177 30.68175 30.68177 30.68179 30.68179 30.68181 30.68181\n",
       "lng 104.0667 104.0665 104.0665 104.0665 104.0665 104.0665 104.0665 104.0664\n",
       "    [,9]     [,10]    [,11] [,12]    [,13]    [,14]    [,15]    [,16]   \n",
       "lat 30.68185 30.68192 ...   30.66061 30.66061 30.66061 30.66061 30.66061\n",
       "lng 104.0664 104.0663 ...   104.0582 104.0582 104.0582 104.0582 104.0582\n",
       "    [,17]    [,18]    [,19]    [,20]    [,21]   \n",
       "lat 30.66061 30.66061 30.66061 30.66061 30.66061\n",
       "lng 104.0582 104.0582 104.0582 104.0582 104.0582"
      ]
     },
     "metadata": {},
     "output_type": "display_data"
    }
   ],
   "source": [
    "cbind.data.frame(df[rep(seq_along(l), lengths(l)),],\n",
    "                 res = unlist(l))"
   ]
  },
  {
   "cell_type": "code",
   "execution_count": 49,
   "metadata": {},
   "outputs": [],
   "source": [
    "write.csv(res_df, file = \"changed_lati_longi.csv\")"
   ]
  },
  {
   "cell_type": "code",
   "execution_count": null,
   "metadata": {},
   "outputs": [],
   "source": []
  }
 ],
 "metadata": {
  "kernelspec": {
   "display_name": "R",
   "language": "R",
   "name": "ir"
  },
  "language_info": {
   "codemirror_mode": "r",
   "file_extension": ".r",
   "mimetype": "text/x-r-source",
   "name": "R",
   "pygments_lexer": "r",
   "version": "3.5.1"
  }
 },
 "nbformat": 4,
 "nbformat_minor": 2
}
